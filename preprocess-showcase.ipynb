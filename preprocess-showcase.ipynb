{
 "cells": [
  {
   "cell_type": "code",
   "execution_count": 1,
   "metadata": {},
   "outputs": [],
   "source": [
    "from Preprocess import Preprocess"
   ]
  },
  {
   "cell_type": "markdown",
   "metadata": {},
   "source": [
    "# Beispiel für Preprocessing eines Plozeiberichtes der Berliner Polizei"
   ]
  },
  {
   "cell_type": "markdown",
   "metadata": {},
   "source": [
    "**Beispieltext:**"
   ]
  },
  {
   "cell_type": "code",
   "execution_count": 2,
   "metadata": {},
   "outputs": [
    {
     "name": "stdout",
     "output_type": "stream",
     "text": [
      "Polizeimeldung vom 30.07.2018. Neukölln. Nr. 1589. Gegen 2.30 Uhr bemerkten Anwohner eines Mehrfamilienhauses in der Emser Straße in Neukölln, dass in einem Treppenaufgang des Hinterhauses dort abgestellte Gegenstände brannten. Ein Mitbewohner löschte das Feuer noch vor dem Eintreffen der Feuerwehr. Ein abgestellter Trolli und eine angelehnte Fußmatte wurden vollständig zerstört. Personen kamen nicht zu Schaden. Ein Brandkommissariat des Landeskriminalamtes Berlin hat die weiteren Ermittlungen übernommen.\n"
     ]
    }
   ],
   "source": [
    "#text = \"Polizeimeldung vom 06.11.2018. Neukölln. Nr. 2331. Gestern Nachmittag kam es in Neukölln zu einer versuchten räuberischen Erpressung an einem Obdachlosen. Ein Zeuge beobachtete gegen 15.30 Uhr, wie ein Mann auf dem Bahnsteig des U-Bahnhofs Boddinstraße von einem offensichtlich Obdachlosen Geld forderte und diesen dabei mehrfach ins Gesicht schlug. Der mutmaßliche Täter und ein Begleiter wollten danach den Bahnhof mit der U-Bahn verlassen. Durch alarmierte Polizeikräfte konnte die Abfahrt des Zuges verhindert und der 34-jährige Tatverdächtige festgenommen werden. Eine freiwillige Atemalkoholmessung ergab bei ihm einen Wert von zirka 1,2 Promille. Nach einer erkennungsdienstlichen Behandlung wurde er der Kriminalpolizei übergeben. Der Obdachlose entfernte sich unerkannt.\"\n",
    "text = \"Polizeimeldung vom 30.07.2018. Neukölln. Nr. 1589. Gegen 2.30 Uhr bemerkten Anwohner eines Mehrfamilienhauses in der Emser Straße in Neukölln, dass in einem Treppenaufgang des Hinterhauses dort abgestellte Gegenstände brannten. Ein Mitbewohner löschte das Feuer noch vor dem Eintreffen der Feuerwehr. Ein abgestellter Trolli und eine angelehnte Fußmatte wurden vollständig zerstört. Personen kamen nicht zu Schaden. Ein Brandkommissariat des Landeskriminalamtes Berlin hat die weiteren Ermittlungen übernommen.\"\n",
    "#text = \"Der 18 jährige blinde Passant wurde am 18.07.2018 um 15.30 Uhr tot in der Braunschweiger Straße mit mehreren Messerstichen aufgefunden. Die Berliner Polizei ermittelt.\"\n",
    "print(text)"
   ]
  },
  {
   "cell_type": "markdown",
   "metadata": {},
   "source": [
    "**Init Preprocess Object mit Beispieltext:**"
   ]
  },
  {
   "cell_type": "code",
   "execution_count": 3,
   "metadata": {},
   "outputs": [],
   "source": [
    "preprocessed = Preprocess(text)"
   ]
  },
  {
   "cell_type": "markdown",
   "metadata": {},
   "source": [
    "**Ermittlung der Noun-Phrases und Named-Entities:**  \n",
    "Intern werden als ersten die Indexe (Spacy-Token-Index) der Noun-Phrases und Named Entities als Listen generiert.  \n",
    "Die Noun-Phrases werden zusätzlich von ihren Stopwörtern und Punctuation bereinigt.\n",
    "Die Index-Listen werden gemerged, um für den Preprocess die Indexe vorzuhalten, welche definitiv in dem aufbereiteten Text vorkommen sollten."
   ]
  },
  {
   "cell_type": "code",
   "execution_count": 4,
   "metadata": {},
   "outputs": [
    {
     "name": "stdout",
     "output_type": "stream",
     "text": [
      "Noun-Phrases, cleaned (default): \n",
      " [0, 2, 4, 6, 10, 11, 13, 15, 18, 19, 21, 26, 28, 30, 31, 35, 38, 42, 44, 47, 48, 51, 52, 57, 61, 64, 66, 67, 71]\n",
      "\n",
      "Named-Entities (default): \n",
      " [4, 6, 18, 19, 21, 28, 35, 66, 67]\n",
      "\n",
      "Maintain-Indeces, generated put of Noun-chunks and Named-Entities: \n",
      " [0, 2, 4, 6, 10, 11, 13, 15, 18, 19, 21, 26, 28, 30, 31, 35, 38, 42, 44, 47, 48, 51, 52, 57, 61, 64, 66, 67, 71]\n"
     ]
    }
   ],
   "source": [
    "# Noun-Phrases, nur Indexe als 1d-Array:\n",
    "print(\"Noun-Phrases, cleaned (default): \\n\", preprocessed.noun_chunks)\n",
    "\n",
    "# Named-Entities (1d-Array):\n",
    "print(\"\\nNamed-Entities (default): \\n\", preprocessed.named_entities)\n",
    "\n",
    "# merged Noun-Phrases and Named-Entities --> must have maintain for preprocess\n",
    "print(\"\\nMaintain-Indeces, generated put of Noun-chunks and Named-Entities: \\n\", preprocessed.maintain_indeces)"
   ]
  },
  {
   "cell_type": "markdown",
   "metadata": {},
   "source": [
    "**Mehr Infos zu Noun-Phrases und Named-Entities:**  \n",
    "Mit Methoden der Preprocess Klasse können bei Bedarf auch Ausgaben generiert werden, die detailiertere Infos zu den Noun-Phrases und Named-Entitites enthalten."
   ]
  },
  {
   "cell_type": "code",
   "execution_count": 5,
   "metadata": {},
   "outputs": [
    {
     "name": "stdout",
     "output_type": "stream",
     "text": [
      "Noun-Phrases: \n",
      " [[(0, Polizeimeldung)], [(2, 30.07.2018)], [(4, Neukölln)], [(6, Nr.)], [(10, 2.30), (11, Uhr)], [(13, Anwohner)], [(14, eines), (15, Mehrfamilienhauses)], [(17, der), (18, Emser), (19, Straße)], [(21, Neukölln)], [(25, einem), (26, Treppenaufgang)], [(27, des), (28, Hinterhauses)], [(29, dort), (30, abgestellte), (31, Gegenstände)], [(34, Ein), (35, Mitbewohner)], [(37, das), (38, Feuer)], [(41, dem), (42, Eintreffen)], [(43, der), (44, Feuerwehr)], [(46, Ein), (47, abgestellter), (48, Trolli)], [(50, eine), (51, angelehnte), (52, Fußmatte)], [(57, Personen)], [(61, Schaden)], [(63, Ein), (64, Brandkommissariat)], [(65, des), (66, Landeskriminalamtes), (67, Berlin)], [(69, die), (70, weiteren), (71, Ermittlungen)]]\n",
      "\n",
      "Named-Entities: \n",
      " [[(4, Neukölln, 'LOC')], [(6, Nr., 'MISC')], [(18, Emser, 'LOC'), (19, Straße, 'LOC')], [(21, Neukölln, 'LOC')], [(28, Hinterhauses, 'LOC')], [(35, Mitbewohner, 'LOC')], [(66, Landeskriminalamtes, 'LOC'), (67, Berlin, 'LOC')]]\n"
     ]
    }
   ],
   "source": [
    "print(\"Noun-Phrases: \\n\", preprocessed.get_noun_chunks(only_indices=False, cleaned=False, flattened=False))\n",
    "\n",
    "print(\"\\nNamed-Entities: \\n\", preprocessed.get_named_entities(only_indeces=False, flattened=False))"
   ]
  },
  {
   "cell_type": "markdown",
   "metadata": {},
   "source": [
    "## Preprocess Ergebnis:  \n",
    "Das preprocessed-Attribut hält den aufbereiteten Text als Array mit Sub-Arrays (Sätze) gefüllt mit den bedeutungstragenden lemmatisierten Tokens. "
   ]
  },
  {
   "cell_type": "code",
   "execution_count": 6,
   "metadata": {},
   "outputs": [
    {
     "name": "stdout",
     "output_type": "stream",
     "text": [
      "Polizeimeldung vom 30.07.2018. Neukölln. Nr. 1589. Gegen 2.30 Uhr bemerkten Anwohner eines Mehrfamilienhauses in der Emser Straße in Neukölln, dass in einem Treppenaufgang des Hinterhauses dort abgestellte Gegenstände brannten. Ein Mitbewohner löschte das Feuer noch vor dem Eintreffen der Feuerwehr. Ein abgestellter Trolli und eine angelehnte Fußmatte wurden vollständig zerstört. Personen kamen nicht zu Schaden. Ein Brandkommissariat des Landeskriminalamtes Berlin hat die weiteren Ermittlungen übernommen.\n"
     ]
    }
   ],
   "source": [
    "# Original-Text\n",
    "print(text)"
   ]
  },
  {
   "cell_type": "code",
   "execution_count": 7,
   "metadata": {},
   "outputs": [
    {
     "name": "stdout",
     "output_type": "stream",
     "text": [
      "Preprocessed Text split by sentences (default): \n",
      " [['polizeimeldung', '30.07.2018'], ['neukölln'], ['nr.', '1589'], ['2.30', 'uhr', 'bemerken', 'anwohner', 'mehrfamilienhaus', 'emser', 'straße', 'neukölln', 'treppenaufgang', 'hinterhaus', 'abgestellt', 'gegenstand', 'brennen'], ['mitbewohner', 'löschen', 'feuer', 'eintreffen', 'feuerwehr'], ['abgestellt', 'trolli', 'angelehnt', 'fußmatte', 'vollständig', 'zerstören'], ['person', 'kommen', 'nicht', 'schade'], ['brandkommissariat', 'landeskriminalamt', 'berlin', 'ermittlung', 'übernehmen']]\n"
     ]
    }
   ],
   "source": [
    "print(\"Preprocessed Text split by sentences (default): \\n\", preprocessed.preprocessed)"
   ]
  },
  {
   "cell_type": "markdown",
   "metadata": {},
   "source": [
    "**Customize Preprocess:**  \n",
    "Das Preprocess Object hält außerdem eine preprocess() Methode, mit der das preprocessing konfiguriert werden kann. "
   ]
  },
  {
   "cell_type": "code",
   "execution_count": 8,
   "metadata": {},
   "outputs": [
    {
     "name": "stdout",
     "output_type": "stream",
     "text": [
      "Preprocessed flattened Text (ignore sentences): \n",
      " ['polizeimeldung', '30.07.2018', 'neukölln', 'nr.', '1589', '2.30', 'uhr', 'bemerken', 'anwohner', 'mehrfamilienhaus', 'emser', 'straße', 'neukölln', 'treppenaufgang', 'hinterhaus', 'abgestellt', 'gegenstand', 'brennen', 'mitbewohner', 'löschen', 'feuer', 'eintreffen', 'feuerwehr', 'abgestellt', 'trolli', 'angelehnt', 'fußmatte', 'vollständig', 'zerstören', 'person', 'kommen', 'nicht', 'schade', 'brandkommissariat', 'landeskriminalamt', 'berlin', 'ermittlung', 'übernehmen']\n"
     ]
    }
   ],
   "source": [
    "print(\"Preprocessed flattened Text (ignore sentences): \\n\", preprocessed.preprocess(sentence_split=False))"
   ]
  },
  {
   "cell_type": "markdown",
   "metadata": {},
   "source": [
    "# Weitere Beispiele:"
   ]
  },
  {
   "cell_type": "code",
   "execution_count": 9,
   "metadata": {},
   "outputs": [
    {
     "name": "stdout",
     "output_type": "stream",
     "text": [
      "Preprocessed: \n",
      ": [['18', 'jährig', 'blind', 'passant', '18.07.2018', '15.30', 'uhr', 'tot', 'braunschweiger', 'straße', 'mehrer', 'messerstich', 'auffinden'], ['berliner', 'polizei', 'ermitteln']]\n",
      "\n",
      "Computed must have indeces, computed by noun-phrases and named entities: \n",
      " [1, 2, 3, 4, 7, 9, 10, 14, 15, 17, 18, 22, 23]\n",
      "\n",
      "Noun phrases: \n",
      " [1, 2, 3, 4, 7, 9, 10, 14, 15, 17, 18, 22, 23]\n",
      "\n",
      "Named entities: \n",
      " [14, 15, 22, 23]\n",
      "\n",
      "Noun Phrases (not cleaned, not flattened): \n",
      " [[(0, Der), (1, 18), (2, jährige), (3, blinde), (4, Passant)], [(7, 18.07.2018)], [(9, 15.30), (10, Uhr)], [(13, der), (14, Braunschweiger), (15, Straße)], [(17, mehreren), (18, Messerstichen)], [(21, Die), (22, Berliner), (23, Polizei)]]\n",
      "\n",
      "Noun Phrases (cleaned, not flattened): \n",
      " [[(1, 18), (2, jährige), (3, blinde), (4, Passant)], [(7, 18.07.2018)], [(9, 15.30), (10, Uhr)], [(14, Braunschweiger), (15, Straße)], [(17, mehreren), (18, Messerstichen)], [(22, Berliner), (23, Polizei)]]\n",
      "\n",
      "Named Entities: \n",
      " [[(14, Braunschweiger, 'LOC'), (15, Straße, 'LOC')], [(22, Berliner, 'ORG'), (23, Polizei, 'ORG')]]\n",
      "\n",
      "Preprocess with maintain-indeces [0, 1, 2]: \n",
      " [['der', '18', 'jährig', 'blind', 'passant', '18.07.2018', '15.30', 'uhr', 'tot', 'braunschweiger', 'straße', 'mehrer', 'messerstich', 'auffinden'], ['berliner', 'polizei', 'ermitteln']]\n"
     ]
    }
   ],
   "source": [
    "text = \"Der 18 jährige blinde Passant wurde am 18.07.2018 um 15.30 Uhr tot in der Braunschweiger Straße mit mehreren Messerstichen aufgefunden. Die Berliner Polizei ermittelt.\"\n",
    "preprocessed = Preprocess(text)\n",
    "print(\"Preprocessed: \\n:\" , preprocessed.preprocessed)\n",
    "print(\"\\nComputed must have indeces, computed by noun-phrases and named entities: \\n\", preprocessed.maintain_indeces)\n",
    "print(\"\\nNoun phrases: \\n\", preprocessed.noun_chunks)\n",
    "print(\"\\nNamed entities: \\n\", preprocessed.named_entities)\n",
    "\n",
    "print(\"\\nNoun Phrases (not cleaned, not flattened): \\n\", preprocessed.get_noun_chunks(only_indices=False, cleaned=False, flattened=False))\n",
    "print(\"\\nNoun Phrases (cleaned, not flattened): \\n\", preprocessed.get_noun_chunks(only_indices=False, cleaned=True, flattened=False))\n",
    "\n",
    "print(\"\\nNamed Entities: \\n\", preprocessed.get_named_entities(only_indeces=False, flattened=False))\n",
    "\n",
    "print(\"\\nPreprocess with maintain-indeces [0, 1, 2]: \\n\", Preprocess(text, maintain_indeces=[0, 1, 2]).preprocessed)"
   ]
  },
  {
   "cell_type": "code",
   "execution_count": 10,
   "metadata": {},
   "outputs": [
    {
     "name": "stdout",
     "output_type": "stream",
     "text": [
      "Preprocessed: \n",
      ": [['steve', 'job', 'gründen', 'kalifornisch', 'garage', 'firma', 'apple', 'computer']]\n",
      "\n",
      "Computed must have indeces, computed by noun-phrases and named entities: \n",
      " [0, 1, 5, 6, 8, 9, 10]\n",
      "\n",
      "Noun phrases: \n",
      " [0, 1, 5, 6, 8, 9, 10]\n",
      "\n",
      "Named entities: \n",
      " [0, 1, 5, 9, 10]\n",
      "\n",
      "Noun Phrases (not cleaned, not flattened): \n",
      " [[(0, Steve), (1, Jobs)], [(4, einer), (5, kalifornischen), (6, Garage)], [(7, die), (8, Firma), (9, Apple), (10, Computer)]]\n",
      "\n",
      "Noun Phrases (cleaned, not flattened): \n",
      " [[(0, Steve), (1, Jobs)], [(5, kalifornischen), (6, Garage)], [(8, Firma), (9, Apple), (10, Computer)]]\n",
      "\n",
      "Named Entities: \n",
      " [[(0, Steve, 'PER'), (1, Jobs, 'PER')], [(5, kalifornischen, 'MISC')], [(9, Apple, 'MISC'), (10, Computer, 'MISC')]]\n"
     ]
    }
   ],
   "source": [
    "text = \"Steve Jobs gründete in einer kalifornischen Garage die Firma Apple Computer.\"\n",
    "preprocessed = Preprocess(text)\n",
    "print(\"Preprocessed: \\n:\" , preprocessed.preprocessed)\n",
    "print(\"\\nComputed must have indeces, computed by noun-phrases and named entities: \\n\", preprocessed.maintain_indeces)\n",
    "print(\"\\nNoun phrases: \\n\", preprocessed.noun_chunks)\n",
    "print(\"\\nNamed entities: \\n\", preprocessed.named_entities)\n",
    "\n",
    "print(\"\\nNoun Phrases (not cleaned, not flattened): \\n\", preprocessed.get_noun_chunks(only_indices=False, cleaned=False, flattened=False))\n",
    "print(\"\\nNoun Phrases (cleaned, not flattened): \\n\", preprocessed.get_noun_chunks(only_indices=False, cleaned=True, flattened=False))\n",
    "\n",
    "print(\"\\nNamed Entities: \\n\", preprocessed.get_named_entities(only_indeces=False, flattened=False))"
   ]
  },
  {
   "cell_type": "code",
   "execution_count": null,
   "metadata": {},
   "outputs": [],
   "source": []
  }
 ],
 "metadata": {
  "kernelspec": {
   "display_name": "My Great Env",
   "language": "python",
   "name": "mygreatenv"
  },
  "language_info": {
   "codemirror_mode": {
    "name": "ipython",
    "version": 3
   },
   "file_extension": ".py",
   "mimetype": "text/x-python",
   "name": "python",
   "nbconvert_exporter": "python",
   "pygments_lexer": "ipython3",
   "version": "3.7.1"
  }
 },
 "nbformat": 4,
 "nbformat_minor": 1
}
